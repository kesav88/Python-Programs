{
 "cells": [
  {
   "cell_type": "code",
   "execution_count": 2,
   "metadata": {},
   "outputs": [
    {
     "name": "stdout",
     "output_type": "stream",
     "text": [
      "4\n"
     ]
    }
   ],
   "source": [
    "L=[1,2,3,4,5]\n",
    "l=L[0]\n",
    "sl=L[0]\n",
    "for num in L:\n",
    "    if num > l:\n",
    "        sl=l\n",
    "        l=num\n",
    "    elif num > sl:\n",
    "        sl=num\n",
    "print(sl)\n"
   ]
  },
  {
   "cell_type": "code",
   "execution_count": 4,
   "metadata": {},
   "outputs": [
    {
     "name": "stdout",
     "output_type": "stream",
     "text": [
      "['devops', 'IT', 'msys', 'IT', 'devops', 'msys']\n"
     ]
    }
   ],
   "source": [
    "def rem(L,word,i,count=0):\n",
    "    if not L:\n",
    "        return []\n",
    "    elif L[0] == word:\n",
    "        count += 1\n",
    "        if count == i:\n",
    "            return L[1:]\n",
    "        else:\n",
    "            return [L[0]] + rem(L[1:],word,i,count)\n",
    "    else:\n",
    "        return [L[0]] + rem(L[1:],word,i,count)\n",
    "\n",
    "\n",
    "L=['msys','devops','IT','msys','IT','devops','msys']\n",
    "word= 'msys'\n",
    "i= 1\n",
    "result= rem(L,word,i)\n",
    "print(result)"
   ]
  },
  {
   "cell_type": "code",
   "execution_count": 6,
   "metadata": {},
   "outputs": [
    {
     "name": "stdout",
     "output_type": "stream",
     "text": [
      "[18, 12, 22, 25]\n",
      "[12, 18, 22, 25]\n"
     ]
    }
   ],
   "source": [
    "d = {'Tim': 18, 'Charlie': 12, 'Tiffany': 22, 'Robert': 25}\n",
    "lst=list(d.values())\n",
    "print(lst)\n",
    "lst.sort()\n",
    "print(lst)\n",
    "res={}\n",
    "for i in d:\n",
    "    "
   ]
  },
  {
   "cell_type": "code",
   "execution_count": 15,
   "metadata": {},
   "outputs": [
    {
     "name": "stdout",
     "output_type": "stream",
     "text": [
      "3\n"
     ]
    }
   ],
   "source": [
    "s='kesavaa'\n",
    "i='a'\n",
    "count=0\n",
    "for st in s:\n",
    "    if st == i:\n",
    "        count += 1\n",
    "    \n",
    "\n",
    "\n",
    "print(count)"
   ]
  }
 ],
 "metadata": {
  "kernelspec": {
   "display_name": "Python 3",
   "language": "python",
   "name": "python3"
  },
  "language_info": {
   "codemirror_mode": {
    "name": "ipython",
    "version": 3
   },
   "file_extension": ".py",
   "mimetype": "text/x-python",
   "name": "python",
   "nbconvert_exporter": "python",
   "pygments_lexer": "ipython3",
   "version": "3.11.0"
  },
  "orig_nbformat": 4,
  "vscode": {
   "interpreter": {
    "hash": "c261aea317cc0286b3b3261fbba9abdec21eaa57589985bb7a274bf54d6cc0a7"
   }
  }
 },
 "nbformat": 4,
 "nbformat_minor": 2
}
