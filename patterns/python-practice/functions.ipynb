{
 "cells": [
  {
   "cell_type": "code",
   "execution_count": 1,
   "metadata": {},
   "outputs": [
    {
     "name": "stdout",
     "output_type": "stream",
     "text": [
      "25 30 40 "
     ]
    }
   ],
   "source": [
    "class Node:\n",
    "    def __init__(self,data):\n",
    "        self.data=data\n",
    "        self.next=None\n",
    "\n",
    "class LinkedList:\n",
    "    def __init__(self):\n",
    "        self.head=None\n",
    "\n",
    "    def display(self):\n",
    "        if self.head is None:\n",
    "            print(\"Linked List is empty\")\n",
    "        else:\n",
    "            temp=self.head\n",
    "            while temp:\n",
    "                print(temp.data,end =\" \")\n",
    "                temp=temp.next\n",
    "\n",
    "\n",
    "\n",
    "\n",
    "L=LinkedList()\n",
    "n1=Node(25)\n",
    "L.head=n1\n",
    "n2=Node(30)\n",
    "n1.next=n2\n",
    "n3=Node(40)\n",
    "n2.next=n3\n",
    "L.display()\n"
   ]
  },
  {
   "cell_type": "code",
   "execution_count": 2,
   "metadata": {},
   "outputs": [
    {
     "name": "stdout",
     "output_type": "stream",
     "text": [
      "branch name:chennai\n",
      "pincode:600094\n",
      "lastname:Modi\n",
      "firstname:kesav\n",
      "account number:1555123\n",
      "withdraw successfully\n",
      "current balance is:  3000\n",
      "None\n"
     ]
    }
   ],
   "source": [
    "class AxisBank:\n",
    "    branch = \"chennai\"\n",
    "    pincode = 600094\n",
    "\n",
    "class Customer(AxisBank):\n",
    "    def __init__(self,firstname,lastname,accountno,balance):\n",
    "        self.lname = firstname\n",
    "        self.fname = lastname\n",
    "        self.acno = accountno\n",
    "        self.bal = balance\n",
    "\n",
    "    def details(self):\n",
    "        print(f\"branch name:{self.branch}\")\n",
    "        print(f\"pincode:{self.pincode}\")\n",
    "        print(f\"lastname:{self.lname}\")\n",
    "        print(f\"firstname:{self.fname}\")\n",
    "        print(f\"account number:{self.acno}\")\n",
    "    \n",
    "    def select(self):\n",
    "        select = input(\"if you enter w or d:\")\n",
    "        if select == \"w\":\n",
    "           print(self.withdraw())\n",
    "        else:\n",
    "            print(self.deposite())\n",
    "    def deposite(self):\n",
    "        amt = int(input(\"enter your deposite amount: \"))\n",
    "        self.bal += amt \n",
    "        print(\"curent balance is:\",self.bal)\n",
    "    \n",
    "    def withdraw(self):\n",
    "        amt = int(input(\"enter your withdraw amount: \"))\n",
    "        if self.bal >= amt:\n",
    "            self.bal -= amt\n",
    "            print(\"withdraw successfully\")\n",
    "            print(\"current balance is: \",self.bal)\n",
    "        else:\n",
    "            print(\"insuffient balance\")\n",
    "    \n",
    "\n",
    "modi = Customer(\"Modi\",\"kesav\",1555123,5000)\n",
    "modi.details()\n",
    "modi.select()"
   ]
  },
  {
   "cell_type": "code",
   "execution_count": 18,
   "metadata": {},
   "outputs": [
    {
     "name": "stdout",
     "output_type": "stream",
     "text": [
      "* * * * * \n",
      "* * * * \n",
      "* * * \n",
      "* * \n",
      "* \n"
     ]
    }
   ],
   "source": [
    "n=int(input(\"enter num of rows\"))\n",
    "for i in range(n,0,-1):\n",
    "    for j in range(1,i+1):\n",
    "        print(\"*\",end=\" \")\n",
    "\n",
    "    print()\n",
    "    "
   ]
  },
  {
   "cell_type": "code",
   "execution_count": 6,
   "metadata": {},
   "outputs": [
    {
     "name": "stdout",
     "output_type": "stream",
     "text": [
      "*    "
     ]
    },
    {
     "ename": "IndexError",
     "evalue": "list index out of range",
     "output_type": "error",
     "traceback": [
      "\u001b[1;31m---------------------------------------------------------------------------\u001b[0m",
      "\u001b[1;31mIndexError\u001b[0m                                Traceback (most recent call last)",
      "Cell \u001b[1;32mIn[6], line 6\u001b[0m\n\u001b[0;32m      4\u001b[0m \u001b[39mfor\u001b[39;00m col \u001b[39min\u001b[39;00m \u001b[39mrange\u001b[39m(\u001b[39m5\u001b[39m):\n\u001b[0;32m      5\u001b[0m     \u001b[39mif\u001b[39;00m col\u001b[39m==\u001b[39m\u001b[39m0\u001b[39m \u001b[39mor\u001b[39;00m (row\u001b[39m+\u001b[39mcol\u001b[39m==\u001b[39m\u001b[39m4\u001b[39m) \u001b[39mor\u001b[39;00m (row\u001b[39m-\u001b[39mcol\u001b[39m==\u001b[39m\u001b[39m2\u001b[39m):\n\u001b[1;32m----> 6\u001b[0m         print_K[row][col]\u001b[39m=\u001b[39m\u001b[39m\"\u001b[39m\u001b[39m*\u001b[39m\u001b[39m\"\u001b[39m\n\u001b[0;32m      9\u001b[0m \u001b[39mprint\u001b[39m(print_K[row][col],end\u001b[39m=\u001b[39m\u001b[39m\"\u001b[39m\u001b[39m\"\u001b[39m)\n",
      "\u001b[1;31mIndexError\u001b[0m: list index out of range"
     ]
    }
   ],
   "source": [
    "print_K=[[\" \" for i in range(7)] for j in range(5)]\n",
    "\n",
    "for row in range(7):\n",
    "    for col in range(5):\n",
    "        if col==0 or (row+col==4) or (row-col==2):\n",
    "            print_K[row][col]=\"*\"\n",
    "\n",
    "\n",
    "    print(print_K[row][col],end=\"\")"
   ]
  },
  {
   "cell_type": "code",
   "execution_count": 11,
   "metadata": {},
   "outputs": [
    {
     "name": "stdout",
     "output_type": "stream",
     "text": [
      "<class 'int'>\n"
     ]
    }
   ],
   "source": [
    "n=int(input())\n",
    "order=len(str(n))\n",
    "print(type(order))"
   ]
  },
  {
   "cell_type": "code",
   "execution_count": 21,
   "metadata": {},
   "outputs": [
    {
     "name": "stdout",
     "output_type": "stream",
     "text": [
      "k\n",
      "{1: 'k', 2: 'e', 3: 's', 10: 'r'}\n"
     ]
    }
   ],
   "source": [
    "a={1:'k',2:'e',3:'s'}\n",
    "print(a[1])\n",
    "a[10]='r'\n",
    "print(a)"
   ]
  },
  {
   "cell_type": "code",
   "execution_count": 88,
   "metadata": {},
   "outputs": [
    {
     "name": "stdout",
     "output_type": "stream",
     "text": [
      "xyz xyz\n"
     ]
    }
   ],
   "source": [
    "a={'name':'abc'}\n",
    "b=a\n",
    "\n",
    "a['name']='xyz'\n",
    "b=a\n",
    "print(b['name'],a['name'])\n"
   ]
  },
  {
   "cell_type": "code",
   "execution_count": 93,
   "metadata": {},
   "outputs": [
    {
     "name": "stdout",
     "output_type": "stream",
     "text": [
      "[10, 20]\n",
      "[15, 25]\n"
     ]
    }
   ],
   "source": [
    "x=[10,20]\n",
    "y=20\n",
    "z=x.copy()\n",
    "x=[15,25]\n",
    "print(z)\n",
    "print(x)"
   ]
  }
 ],
 "metadata": {
  "kernelspec": {
   "display_name": "Python 3.11.0 64-bit",
   "language": "python",
   "name": "python3"
  },
  "language_info": {
   "codemirror_mode": {
    "name": "ipython",
    "version": 3
   },
   "file_extension": ".py",
   "mimetype": "text/x-python",
   "name": "python",
   "nbconvert_exporter": "python",
   "pygments_lexer": "ipython3",
   "version": "3.11.0 (main, Oct 24 2022, 18:26:48) [MSC v.1933 64 bit (AMD64)]"
  },
  "orig_nbformat": 4,
  "vscode": {
   "interpreter": {
    "hash": "c261aea317cc0286b3b3261fbba9abdec21eaa57589985bb7a274bf54d6cc0a7"
   }
  }
 },
 "nbformat": 4,
 "nbformat_minor": 2
}
