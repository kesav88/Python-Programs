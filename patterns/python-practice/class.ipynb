{
 "cells": [
  {
   "cell_type": "code",
   "execution_count": null,
   "metadata": {},
   "outputs": [],
   "source": [
    "class Car:\n",
    "    wheels = 4\n",
    "\n",
    "    def __init__(self, c, m):\n",
    "        self.color = c\n",
    "        self.model = m\n",
    "\n",
    "    def start(self):\n",
    "        print(\"started\")\n",
    "\n",
    "    def stop(self):\n",
    "        print('stopped')\n",
    "\n",
    "nano = Car(\"red\")\n",
    "tesla = Car(\"Green\")\n",
    "tata=Car(\"blue\",1990)\n",
    "tata.model"
   ]
  },
  {
   "cell_type": "code",
   "execution_count": 14,
   "metadata": {},
   "outputs": [
    {
     "data": {
      "text/plain": [
       "122"
      ]
     },
     "execution_count": 14,
     "metadata": {},
     "output_type": "execute_result"
    }
   ],
   "source": [
    "ord('z')"
   ]
  },
  {
   "cell_type": "code",
   "execution_count": 22,
   "metadata": {},
   "outputs": [
    {
     "name": "stdout",
     "output_type": "stream",
     "text": [
      "[4, 3, 2, 1]\n"
     ]
    }
   ],
   "source": [
    "a=[1,2,3,4]\n",
    "s=0\n",
    "end=len(a)-1\n",
    "while s < end :\n",
    "    temp=a[s]\n",
    "    a[s]=a[end]\n",
    "    a[end]=temp\n",
    "    s +=1\n",
    "    end -=1\n",
    "\n",
    "print(a)"
   ]
  },
  {
   "cell_type": "code",
   "execution_count": 25,
   "metadata": {},
   "outputs": [
    {
     "name": "stdout",
     "output_type": "stream",
     "text": [
      "vav$v$\n",
      "2\n",
      "['hi', 'how', 'are', 'you']\n",
      "['you', 'are', 'how', 'hi']\n",
      "you are how hi\n",
      "6\n",
      "vavava\n"
     ]
    }
   ],
   "source": [
    "a = \"vavava\"\n",
    "print(a[:2] + a[2:].replace(\"a\", \"$\"))\n",
    "st = \"hi how are you\"\n",
    "print(st.count(\"h\"))\n",
    "s = st.split(\" \")\n",
    "print(s)\n",
    "t = s[::-1]\n",
    "print(t)\n",
    "k = \" \".join(t)\n",
    "print(k)\n",
    "print(len(a))\n",
    "print(a)\n",
    "\n"
   ]
  },
  {
   "cell_type": "code",
   "execution_count": 26,
   "metadata": {},
   "outputs": [
    {
     "name": "stdout",
     "output_type": "stream",
     "text": [
      "hi how are you\n"
     ]
    }
   ],
   "source": [
    "\n",
    "k=[\"hi\",\"how\",'are',\"you\"]\n",
    "h=\" \".join(k)\n",
    "print(h)"
   ]
  },
  {
   "cell_type": "code",
   "execution_count": 32,
   "metadata": {},
   "outputs": [
    {
     "name": "stdout",
     "output_type": "stream",
     "text": [
      "vav$v$\n"
     ]
    }
   ],
   "source": [
    "a = \"vavava\"\n",
    "print(a[:2]+a[2:].replace(\"a\", \"$\"))"
   ]
  },
  {
   "cell_type": "code",
   "execution_count": 35,
   "metadata": {},
   "outputs": [
    {
     "name": "stdout",
     "output_type": "stream",
     "text": [
      "21\n"
     ]
    }
   ],
   "source": [
    "n = 43\n",
    "print(n // 2)"
   ]
  },
  {
   "attachments": {},
   "cell_type": "markdown",
   "metadata": {},
   "source": [
    "reversing list without inbuilt functions"
   ]
  },
  {
   "cell_type": "code",
   "execution_count": 27,
   "metadata": {},
   "outputs": [
    {
     "name": "stdout",
     "output_type": "stream",
     "text": [
      "6\n",
      "[6, 5, 4, 3, 2, 1]\n"
     ]
    }
   ],
   "source": [
    "lst=[1,2,3,4,5,6]\n",
    "length = len(lst)\n",
    "print(length)\n",
    "for i in range(length // 2):\n",
    "    lst[i],lst[length - i - 1] = lst[length - i - 1],lst[i]\n",
    "print(lst)\n",
    "\n"
   ]
  },
  {
   "cell_type": "markdown",
   "metadata": {},
   "source": [
    "sum of elements of list"
   ]
  },
  {
   "cell_type": "code",
   "execution_count": 6,
   "metadata": {},
   "outputs": [
    {
     "name": "stdout",
     "output_type": "stream",
     "text": [
      "219\n"
     ]
    }
   ],
   "source": [
    "a=[1,5,6,7,100,100]\n",
    "res=0\n",
    "for i in a:\n",
    "    res += i\n",
    "\n",
    "print(res)"
   ]
  },
  {
   "cell_type": "markdown",
   "metadata": {},
   "source": [
    "prime numbers upto N"
   ]
  },
  {
   "cell_type": "code",
   "execution_count": 44,
   "metadata": {},
   "outputs": [
    {
     "name": "stdout",
     "output_type": "stream",
     "text": [
      "1 2 3 5 7 11 13 17 19 "
     ]
    }
   ],
   "source": [
    "n =int(input(\"enter a number: \"))\n",
    "for i in range(1,n):\n",
    "    for j in range(2,i):\n",
    "        if i%j == 0:\n",
    "            break\n",
    "    else:\n",
    "        print(i,end=\" \")\n",
    "           "
   ]
  },
  {
   "cell_type": "code",
   "execution_count": 63,
   "metadata": {},
   "outputs": [
    {
     "name": "stdout",
     "output_type": "stream",
     "text": [
      "13 is a prime number\n"
     ]
    }
   ],
   "source": [
    "def is_prime(num):\n",
    "    # if num <= 1:\n",
    "    #     return False\n",
    "    for i in range(2, num):\n",
    "        if num % i == 0:\n",
    "            return False\n",
    "    return True\n",
    "\n",
    "num = int(input(\"Enter a number: \"))\n",
    "if is_prime(num):\n",
    "    print(num, \"is a prime number\")\n",
    "else:\n",
    "    print(num, \"is not a prime number\")\n"
   ]
  },
  {
   "cell_type": "code",
   "execution_count": 66,
   "metadata": {},
   "outputs": [
    {
     "name": "stdout",
     "output_type": "stream",
     "text": [
      "not prime\n"
     ]
    }
   ],
   "source": [
    "n=int(input(\"enter a num\"))\n",
    "\n",
    "for i in range(2,int(n/2)+1):\n",
    "    if (n % i) == 0:\n",
    "        print(\"not prime\")\n",
    "        break\n",
    "else:\n",
    "    print(\"prime\")\n",
    "\n",
    "        "
   ]
  },
  {
   "cell_type": "code",
   "execution_count": 68,
   "metadata": {},
   "outputs": [
    {
     "name": "stdout",
     "output_type": "stream",
     "text": [
      "avasek\n"
     ]
    }
   ],
   "source": [
    "s='kesava'\n",
    "res=''\n",
    "for i in s:\n",
    "    res = i + res\n",
    "print(res)"
   ]
  },
  {
   "cell_type": "code",
   "execution_count": 69,
   "metadata": {},
   "outputs": [
    {
     "name": "stdout",
     "output_type": "stream",
     "text": [
      "[1, 2, 3, 4, 5, 6]\n"
     ]
    }
   ],
   "source": [
    "l1=[1,2,3]\n",
    "l2=[4,5,6]\n",
    "l1.extend(l2)\n",
    "print(l1)"
   ]
  },
  {
   "cell_type": "code",
   "execution_count": 73,
   "metadata": {},
   "outputs": [
    {
     "name": "stdout",
     "output_type": "stream",
     "text": [
      "1 3 5 7 9 11 13 15 17 19 21 23 25 27 29 31 33 35 37 39 41 43 45 47 49 51 53 55 "
     ]
    }
   ],
   "source": [
    "for i in range(1,56):\n",
    "    if i % 2 !=0:\n",
    "        print(i,end=\" \")"
   ]
  },
  {
   "cell_type": "markdown",
   "metadata": {},
   "source": [
    "factors of a num"
   ]
  },
  {
   "cell_type": "code",
   "execution_count": 32,
   "metadata": {},
   "outputs": [
    {
     "name": "stdout",
     "output_type": "stream",
     "text": [
      "1 2 4 5 10 20 "
     ]
    }
   ],
   "source": [
    "n = int(input())\n",
    "for i in range(1,n+1):\n",
    "    if n % i == 0:\n",
    "        print(i, end=\" \")"
   ]
  },
  {
   "cell_type": "markdown",
   "metadata": {},
   "source": [
    "palindrome or not\n"
   ]
  },
  {
   "cell_type": "code",
   "execution_count": 5,
   "metadata": {},
   "outputs": [
    {
     "name": "stdout",
     "output_type": "stream",
     "text": [
      "given string is not plaindrome\n"
     ]
    }
   ],
   "source": [
    "s=input(\"enter a string: \")\n",
    "res= s[::-1]\n",
    "if s==res:\n",
    "    print(\"given string is palindrome\")\n",
    "else:\n",
    "    print(\"given string is not plaindrome\")"
   ]
  },
  {
   "cell_type": "markdown",
   "metadata": {},
   "source": [
    "reversing list without inbuilt functions"
   ]
  },
  {
   "cell_type": "code",
   "execution_count": 49,
   "metadata": {},
   "outputs": [
    {
     "name": "stdout",
     "output_type": "stream",
     "text": [
      "[7, 1, 0, 76, 45, 3, 2, 1]\n"
     ]
    }
   ],
   "source": [
    "arr = [1, 2, 3, 45,76,0,1,7]\n",
    "s = 0\n",
    "end = len(arr)-1\n",
    "while (s < end):\n",
    "    \n",
    "        temp = arr[s]\n",
    "        arr[s] = arr[end]\n",
    "        arr[end] = temp\n",
    "        s += 1\n",
    "        end -= 1\n",
    "\n",
    "print(arr)"
   ]
  },
  {
   "cell_type": "code",
   "execution_count": null,
   "metadata": {},
   "outputs": [],
   "source": []
  },
  {
   "attachments": {},
   "cell_type": "markdown",
   "metadata": {},
   "source": [
    "check whether two lists are equal or not"
   ]
  },
  {
   "cell_type": "code",
   "execution_count": 65,
   "metadata": {},
   "outputs": [
    {
     "name": "stdout",
     "output_type": "stream",
     "text": [
      "two lists are not equal\n"
     ]
    }
   ],
   "source": [
    "l1=[1,2,3,4]\n",
    "l2=[3,4,1,2]\n",
    "if l1 == l2:\n",
    "    print(\"two lists are equal\")\n",
    "else:\n",
    "    print(\"two lists are not equal\")\n"
   ]
  },
  {
   "cell_type": "code",
   "execution_count": 34,
   "metadata": {},
   "outputs": [
    {
     "name": "stdout",
     "output_type": "stream",
     "text": [
      "[2, 4, 6, 8]\n"
     ]
    }
   ],
   "source": [
    "l1=[1,2,3,4]\n",
    "mylist=[x * 2 for x in l1]\n",
    "print(mylist)"
   ]
  },
  {
   "cell_type": "code",
   "execution_count": 74,
   "metadata": {},
   "outputs": [
    {
     "name": "stdout",
     "output_type": "stream",
     "text": [
      "[1, 2, 3, 4, 5, 6]\n"
     ]
    }
   ],
   "source": [
    "l1=[1,2,3,4]\n",
    "l1.extend([5,6])\n",
    "print(l1)"
   ]
  },
  {
   "cell_type": "code",
   "execution_count": 190,
   "metadata": {},
   "outputs": [
    {
     "name": "stdout",
     "output_type": "stream",
     "text": [
      "[3, 4, 5, 6, 7, 8, 9, 10]\n"
     ]
    }
   ],
   "source": [
    "l1=[[9,10],[3,4],[5,6],[7,8]]\n",
    "l2=[]\n",
    "for i in l1:\n",
    "    l2.extend(i)\n",
    "print(l2)\n"
   ]
  },
  {
   "attachments": {},
   "cell_type": "markdown",
   "metadata": {},
   "source": [
    "different ways to copy a list\n",
    "copy(),l1[:],list(l1)"
   ]
  },
  {
   "cell_type": "code",
   "execution_count": 104,
   "metadata": {},
   "outputs": [
    {
     "name": "stdout",
     "output_type": "stream",
     "text": [
      "[1, 2, 3, 4]\n",
      "[1, 2, 3, 4]\n",
      "[1, 2, 3, 4]\n"
     ]
    }
   ],
   "source": [
    "l1=[1,2,3,4]\n",
    "l2=l1[:]\n",
    "print(l2)\n",
    "l3=l1.copy()\n",
    "print(l3)\n",
    "l4=list(l1)\n",
    "print(l4)"
   ]
  },
  {
   "cell_type": "code",
   "execution_count": 37,
   "metadata": {},
   "outputs": [
    {
     "name": "stdout",
     "output_type": "stream",
     "text": [
      "[('kesava', 'varma')]\n",
      "{('kesava', 'varma'): 25}\n"
     ]
    }
   ],
   "source": [
    "people=(\"kesava\",\"varma\")\n",
    "age=25\n",
    "person={people:age}\n",
    "x=list(person.keys())\n",
    "print(x)\n",
    "print(person)"
   ]
  },
  {
   "cell_type": "code",
   "execution_count": 117,
   "metadata": {},
   "outputs": [
    {
     "name": "stdout",
     "output_type": "stream",
     "text": [
      "<class 'list'>\n",
      "1\n",
      "[3, 4]\n"
     ]
    }
   ],
   "source": [
    "l1=[(1,2),3,4]\n",
    "print(type(l1))\n",
    "print(l1.index(3))\n",
    "l1.remove((1,2))\n",
    "print(l1)"
   ]
  },
  {
   "cell_type": "code",
   "execution_count": 179,
   "metadata": {},
   "outputs": [
    {
     "name": "stdout",
     "output_type": "stream",
     "text": [
      "{1: 2, 3: 4}\n",
      "{1, 3}\n"
     ]
    }
   ],
   "source": [
    "# set1 = {1, 2, 3}\n",
    "# set2 = {4, 5, 6}\n",
    "# set3 = [set1, set2]\n",
    "# print(set3)\n",
    "# print(len(set2))\n",
    "# di={1:2,\"kesav\":True}\n",
    "# print(len(di))\n",
    "# t=([1, 2], [\"a\", \"b\"])\n",
    "# print(dict(t))\n",
    "t1=[{1, 2}, [3, 4], (1, 2)]\n",
    "d=dict(t1)\n",
    "print(d)\n",
    "s=set(d)\n",
    "print(s)"
   ]
  },
  {
   "cell_type": "code",
   "execution_count": 42,
   "metadata": {},
   "outputs": [
    {
     "name": "stdout",
     "output_type": "stream",
     "text": [
      "((1, 4), (2, 5), (3, 6))\n"
     ]
    }
   ],
   "source": [
    "l1=[1,2,3]\n",
    "l2=[4,5,6,7]\n",
    "d=tuple(zip(l1,l2))\n",
    "print(d)\n"
   ]
  },
  {
   "cell_type": "code",
   "execution_count": 225,
   "metadata": {},
   "outputs": [
    {
     "name": "stdout",
     "output_type": "stream",
     "text": [
      "11\n",
      "13\n"
     ]
    }
   ],
   "source": [
    "y = 11\n",
    "\n",
    "def adder():\n",
    "    global y\n",
    "    y = y + 2\n",
    "\n",
    "print(y)\n",
    "adder()\n",
    "print(y)\n"
   ]
  },
  {
   "cell_type": "markdown",
   "metadata": {},
   "source": [
    "toggle"
   ]
  },
  {
   "cell_type": "code",
   "execution_count": 30,
   "metadata": {},
   "outputs": [
    {
     "name": "stdout",
     "output_type": "stream",
     "text": [
      " hELLO wORLD\n"
     ]
    }
   ],
   "source": [
    "n = \"Hello World\"\n",
    "k = \" \"\n",
    "for i in n:\n",
    "    if i.upper()==i:\n",
    "        i = i.lower()\n",
    "        k += i\n",
    "        \n",
    "    else:\n",
    "        i = i.upper()\n",
    "        k += i\n",
    "print(k)"
   ]
  },
  {
   "cell_type": "code",
   "execution_count": 14,
   "metadata": {},
   "outputs": [
    {
     "name": "stdout",
     "output_type": "stream",
     "text": [
      "KESAVA RAJU\n"
     ]
    }
   ],
   "source": [
    "n=\"kesava raju\"\n",
    "k=\"\"\n",
    "for i in n:\n",
    "    if i.upper()==i:\n",
    "        i=i.lower()\n",
    "        k += i\n",
    "    else:\n",
    "        i=i.upper()\n",
    "        k += i\n",
    "\n",
    "print(k)"
   ]
  },
  {
   "cell_type": "code",
   "execution_count": 50,
   "metadata": {},
   "outputs": [
    {
     "name": "stdout",
     "output_type": "stream",
     "text": [
      "['__class__', '__delattr__', '__dict__', '__dir__', '__doc__', '__eq__', '__format__', '__ge__', '__getattribute__', '__getstate__', '__gt__', '__hash__', '__init__', '__init_subclass__', '__le__', '__lt__', '__module__', '__ne__', '__new__', '__reduce__', '__reduce_ex__', '__repr__', '__setattr__', '__sizeof__', '__str__', '__subclasshook__', '__weakref__', 'age', 'name', 'raju', 'sex']\n"
     ]
    }
   ],
   "source": [
    "class kesav:\n",
    "    name='kesav'\n",
    "    age=25\n",
    "    sex='m'\n",
    "\n",
    "    def raju():\n",
    "        print('kanumuri')\n",
    "\n",
    "\n",
    "print(dir(kesav))"
   ]
  },
  {
   "cell_type": "code",
   "execution_count": 51,
   "metadata": {},
   "outputs": [
    {
     "name": "stdout",
     "output_type": "stream",
     "text": [
      "KESAVA\n",
      "KESAVA\n"
     ]
    }
   ],
   "source": [
    "x='KESAVA'\n",
    "k=x.format('A')\n",
    "print(k)\n",
    "print(x)"
   ]
  }
 ],
 "metadata": {
  "kernelspec": {
   "display_name": "Python 3.11.0 64-bit",
   "language": "python",
   "name": "python3"
  },
  "language_info": {
   "codemirror_mode": {
    "name": "ipython",
    "version": 3
   },
   "file_extension": ".py",
   "mimetype": "text/x-python",
   "name": "python",
   "nbconvert_exporter": "python",
   "pygments_lexer": "ipython3",
   "version": "3.11.0"
  },
  "orig_nbformat": 4,
  "vscode": {
   "interpreter": {
    "hash": "c261aea317cc0286b3b3261fbba9abdec21eaa57589985bb7a274bf54d6cc0a7"
   }
  }
 },
 "nbformat": 4,
 "nbformat_minor": 2
}
